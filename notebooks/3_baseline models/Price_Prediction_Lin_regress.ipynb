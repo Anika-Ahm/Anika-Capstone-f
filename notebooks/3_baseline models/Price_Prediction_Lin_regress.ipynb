{
  "cells": [
    {
      "cell_type": "code",
      "execution_count": 16,
      "metadata": {
        "id": "Xcmqeg4Uq2MF"
      },
      "outputs": [],
      "source": [
        "# Import libraries\n",
        "import numpy as np\n",
        "import pandas as pd\n",
        "import matplotlib.pyplot as plt\n",
        "import seaborn as sns\n",
        "import scipy.stats as stats\n",
        "from sklearn.model_selection import train_test_split\n",
        "from sklearn.linear_model import LinearRegression\n",
        "from sklearn.ensemble import RandomForestClassifier\n",
        "from sklearn.metrics import classification_report, confusion_matrix, accuracy_score\n"
      ]
    },
    {
      "cell_type": "markdown",
      "metadata": {
        "id": "Qnekiuvx3zdK"
      },
      "source": [
        "### Data"
      ]
    },
    {
      "cell_type": "code",
      "execution_count": 17,
      "metadata": {
        "colab": {
          "base_uri": "https://localhost:8080/",
          "height": 856
        },
        "id": "szF2MJ3wNdvC",
        "outputId": "78992988-18b6-4485-dc2e-d2cbc2d690d1"
      },
      "outputs": [
        {
          "data": {
            "text/html": [
              "<div>\n",
              "<style scoped>\n",
              "    .dataframe tbody tr th:only-of-type {\n",
              "        vertical-align: middle;\n",
              "    }\n",
              "\n",
              "    .dataframe tbody tr th {\n",
              "        vertical-align: top;\n",
              "    }\n",
              "\n",
              "    .dataframe thead th {\n",
              "        text-align: right;\n",
              "    }\n",
              "</style>\n",
              "<table border=\"1\" class=\"dataframe\">\n",
              "  <thead>\n",
              "    <tr style=\"text-align: right;\">\n",
              "      <th></th>\n",
              "      <th>Year</th>\n",
              "      <th>quarter</th>\n",
              "      <th>cur_passengers</th>\n",
              "      <th>cur_fare</th>\n",
              "      <th>ly_fare</th>\n",
              "      <th>ly_passengers</th>\n",
              "      <th>amount_change</th>\n",
              "      <th>percent_change</th>\n",
              "      <th>amount_change_pax</th>\n",
              "      <th>percent_change_pax</th>\n",
              "      <th>...</th>\n",
              "      <th>route_Seattle, WA - Tucson, AZ</th>\n",
              "      <th>route_Seattle, WA - Washington, DC (Metropolitan Area)</th>\n",
              "      <th>route_St. Louis, MO - Tampa, FL (Metropolitan Area)</th>\n",
              "      <th>route_St. Louis, MO - Washington, DC (Metropolitan Area)</th>\n",
              "      <th>route_Syracuse, NY - Tampa, FL (Metropolitan Area)</th>\n",
              "      <th>route_Syracuse, NY - Washington, DC (Metropolitan Area)</th>\n",
              "      <th>route_Tampa, FL (Metropolitan Area) - Toledo, OH</th>\n",
              "      <th>route_Tampa, FL (Metropolitan Area) - Washington, DC (Metropolitan Area)</th>\n",
              "      <th>route_Tulsa, OK - Washington, DC (Metropolitan Area)</th>\n",
              "      <th>route_Washington, DC (Metropolitan Area) - West Palm Beach/Palm Beach, FL</th>\n",
              "    </tr>\n",
              "  </thead>\n",
              "  <tbody>\n",
              "    <tr>\n",
              "      <th>0</th>\n",
              "      <td>2024</td>\n",
              "      <td>4</td>\n",
              "      <td>34490</td>\n",
              "      <td>205.96</td>\n",
              "      <td>169.88</td>\n",
              "      <td>39340</td>\n",
              "      <td>36.08</td>\n",
              "      <td>0.2124</td>\n",
              "      <td>-4850</td>\n",
              "      <td>-0.1233</td>\n",
              "      <td>...</td>\n",
              "      <td>False</td>\n",
              "      <td>False</td>\n",
              "      <td>False</td>\n",
              "      <td>False</td>\n",
              "      <td>False</td>\n",
              "      <td>False</td>\n",
              "      <td>False</td>\n",
              "      <td>False</td>\n",
              "      <td>False</td>\n",
              "      <td>False</td>\n",
              "    </tr>\n",
              "    <tr>\n",
              "      <th>1</th>\n",
              "      <td>2024</td>\n",
              "      <td>4</td>\n",
              "      <td>29550</td>\n",
              "      <td>197.70</td>\n",
              "      <td>156.70</td>\n",
              "      <td>34430</td>\n",
              "      <td>41.00</td>\n",
              "      <td>0.2617</td>\n",
              "      <td>-4880</td>\n",
              "      <td>-0.1417</td>\n",
              "      <td>...</td>\n",
              "      <td>False</td>\n",
              "      <td>False</td>\n",
              "      <td>False</td>\n",
              "      <td>False</td>\n",
              "      <td>False</td>\n",
              "      <td>False</td>\n",
              "      <td>False</td>\n",
              "      <td>False</td>\n",
              "      <td>False</td>\n",
              "      <td>False</td>\n",
              "    </tr>\n",
              "    <tr>\n",
              "      <th>2</th>\n",
              "      <td>2024</td>\n",
              "      <td>4</td>\n",
              "      <td>24910</td>\n",
              "      <td>256.22</td>\n",
              "      <td>192.41</td>\n",
              "      <td>36680</td>\n",
              "      <td>63.81</td>\n",
              "      <td>0.3316</td>\n",
              "      <td>-11770</td>\n",
              "      <td>-0.3209</td>\n",
              "      <td>...</td>\n",
              "      <td>False</td>\n",
              "      <td>False</td>\n",
              "      <td>False</td>\n",
              "      <td>False</td>\n",
              "      <td>False</td>\n",
              "      <td>False</td>\n",
              "      <td>False</td>\n",
              "      <td>False</td>\n",
              "      <td>False</td>\n",
              "      <td>False</td>\n",
              "    </tr>\n",
              "    <tr>\n",
              "      <th>3</th>\n",
              "      <td>2024</td>\n",
              "      <td>4</td>\n",
              "      <td>40090</td>\n",
              "      <td>315.81</td>\n",
              "      <td>257.61</td>\n",
              "      <td>43130</td>\n",
              "      <td>58.19</td>\n",
              "      <td>0.2259</td>\n",
              "      <td>-3040</td>\n",
              "      <td>-0.0705</td>\n",
              "      <td>...</td>\n",
              "      <td>False</td>\n",
              "      <td>False</td>\n",
              "      <td>False</td>\n",
              "      <td>False</td>\n",
              "      <td>False</td>\n",
              "      <td>False</td>\n",
              "      <td>False</td>\n",
              "      <td>False</td>\n",
              "      <td>False</td>\n",
              "      <td>False</td>\n",
              "    </tr>\n",
              "    <tr>\n",
              "      <th>4</th>\n",
              "      <td>2024</td>\n",
              "      <td>4</td>\n",
              "      <td>82790</td>\n",
              "      <td>211.52</td>\n",
              "      <td>164.20</td>\n",
              "      <td>79590</td>\n",
              "      <td>47.32</td>\n",
              "      <td>0.2882</td>\n",
              "      <td>3200</td>\n",
              "      <td>0.0402</td>\n",
              "      <td>...</td>\n",
              "      <td>False</td>\n",
              "      <td>False</td>\n",
              "      <td>False</td>\n",
              "      <td>False</td>\n",
              "      <td>False</td>\n",
              "      <td>False</td>\n",
              "      <td>False</td>\n",
              "      <td>False</td>\n",
              "      <td>False</td>\n",
              "      <td>False</td>\n",
              "    </tr>\n",
              "  </tbody>\n",
              "</table>\n",
              "<p>5 rows × 1029 columns</p>\n",
              "</div>"
            ],
            "text/plain": [
              "   Year  quarter  cur_passengers  cur_fare  ly_fare  ly_passengers  \\\n",
              "0  2024        4           34490    205.96   169.88          39340   \n",
              "1  2024        4           29550    197.70   156.70          34430   \n",
              "2  2024        4           24910    256.22   192.41          36680   \n",
              "3  2024        4           40090    315.81   257.61          43130   \n",
              "4  2024        4           82790    211.52   164.20          79590   \n",
              "\n",
              "   amount_change  percent_change  amount_change_pax  percent_change_pax  ...  \\\n",
              "0          36.08          0.2124              -4850             -0.1233  ...   \n",
              "1          41.00          0.2617              -4880             -0.1417  ...   \n",
              "2          63.81          0.3316             -11770             -0.3209  ...   \n",
              "3          58.19          0.2259              -3040             -0.0705  ...   \n",
              "4          47.32          0.2882               3200              0.0402  ...   \n",
              "\n",
              "   route_Seattle, WA - Tucson, AZ  \\\n",
              "0                           False   \n",
              "1                           False   \n",
              "2                           False   \n",
              "3                           False   \n",
              "4                           False   \n",
              "\n",
              "   route_Seattle, WA - Washington, DC (Metropolitan Area)  \\\n",
              "0                                              False        \n",
              "1                                              False        \n",
              "2                                              False        \n",
              "3                                              False        \n",
              "4                                              False        \n",
              "\n",
              "   route_St. Louis, MO - Tampa, FL (Metropolitan Area)  \\\n",
              "0                                              False     \n",
              "1                                              False     \n",
              "2                                              False     \n",
              "3                                              False     \n",
              "4                                              False     \n",
              "\n",
              "   route_St. Louis, MO - Washington, DC (Metropolitan Area)  \\\n",
              "0                                              False          \n",
              "1                                              False          \n",
              "2                                              False          \n",
              "3                                              False          \n",
              "4                                              False          \n",
              "\n",
              "   route_Syracuse, NY - Tampa, FL (Metropolitan Area)  \\\n",
              "0                                              False    \n",
              "1                                              False    \n",
              "2                                              False    \n",
              "3                                              False    \n",
              "4                                              False    \n",
              "\n",
              "   route_Syracuse, NY - Washington, DC (Metropolitan Area)  \\\n",
              "0                                              False         \n",
              "1                                              False         \n",
              "2                                              False         \n",
              "3                                              False         \n",
              "4                                              False         \n",
              "\n",
              "   route_Tampa, FL (Metropolitan Area) - Toledo, OH  \\\n",
              "0                                             False   \n",
              "1                                             False   \n",
              "2                                             False   \n",
              "3                                             False   \n",
              "4                                             False   \n",
              "\n",
              "   route_Tampa, FL (Metropolitan Area) - Washington, DC (Metropolitan Area)  \\\n",
              "0                                              False                          \n",
              "1                                              False                          \n",
              "2                                              False                          \n",
              "3                                              False                          \n",
              "4                                              False                          \n",
              "\n",
              "   route_Tulsa, OK - Washington, DC (Metropolitan Area)  \\\n",
              "0                                              False      \n",
              "1                                              False      \n",
              "2                                              False      \n",
              "3                                              False      \n",
              "4                                              False      \n",
              "\n",
              "   route_Washington, DC (Metropolitan Area) - West Palm Beach/Palm Beach, FL  \n",
              "0                                              False                          \n",
              "1                                              False                          \n",
              "2                                              False                          \n",
              "3                                              False                          \n",
              "4                                              False                          \n",
              "\n",
              "[5 rows x 1029 columns]"
            ]
          },
          "execution_count": 17,
          "metadata": {},
          "output_type": "execute_result"
        }
      ],
      "source": [
        "data_clean = pd.read_csv(r'D:\\spring 25\\appiled stat\\anika Sprint 1\\data\\Processed\\data_clean.csv')\n",
        "data_clean.head()"
      ]
    },
    {
      "cell_type": "markdown",
      "metadata": {
        "id": "ygNm__Y242tQ"
      },
      "source": [
        "# model: predict fare"
      ]
    },
    {
      "cell_type": "code",
      "execution_count": 18,
      "metadata": {
        "colab": {
          "base_uri": "https://localhost:8080/",
          "height": 495
        },
        "id": "h4LHtsEE42Eo",
        "outputId": "02c1a408-7aa9-45b7-dc0b-b64daff84bfe"
      },
      "outputs": [
        {
          "data": {
            "text/html": [
              "<div>\n",
              "<style scoped>\n",
              "    .dataframe tbody tr th:only-of-type {\n",
              "        vertical-align: middle;\n",
              "    }\n",
              "\n",
              "    .dataframe tbody tr th {\n",
              "        vertical-align: top;\n",
              "    }\n",
              "\n",
              "    .dataframe thead th {\n",
              "        text-align: right;\n",
              "    }\n",
              "</style>\n",
              "<table border=\"1\" class=\"dataframe\">\n",
              "  <thead>\n",
              "    <tr style=\"text-align: right;\">\n",
              "      <th></th>\n",
              "      <th>Year</th>\n",
              "      <th>quarter</th>\n",
              "      <th>cur_passengers</th>\n",
              "      <th>cur_fare</th>\n",
              "      <th>ly_fare</th>\n",
              "      <th>ly_passengers</th>\n",
              "      <th>amount_change</th>\n",
              "      <th>percent_change</th>\n",
              "      <th>amount_change_pax</th>\n",
              "      <th>percent_change_pax</th>\n",
              "      <th>...</th>\n",
              "      <th>route_Seattle, WA - Tucson, AZ</th>\n",
              "      <th>route_Seattle, WA - Washington, DC (Metropolitan Area)</th>\n",
              "      <th>route_St. Louis, MO - Tampa, FL (Metropolitan Area)</th>\n",
              "      <th>route_St. Louis, MO - Washington, DC (Metropolitan Area)</th>\n",
              "      <th>route_Syracuse, NY - Tampa, FL (Metropolitan Area)</th>\n",
              "      <th>route_Syracuse, NY - Washington, DC (Metropolitan Area)</th>\n",
              "      <th>route_Tampa, FL (Metropolitan Area) - Toledo, OH</th>\n",
              "      <th>route_Tampa, FL (Metropolitan Area) - Washington, DC (Metropolitan Area)</th>\n",
              "      <th>route_Tulsa, OK - Washington, DC (Metropolitan Area)</th>\n",
              "      <th>route_Washington, DC (Metropolitan Area) - West Palm Beach/Palm Beach, FL</th>\n",
              "    </tr>\n",
              "  </thead>\n",
              "  <tbody>\n",
              "    <tr>\n",
              "      <th>0</th>\n",
              "      <td>2024</td>\n",
              "      <td>4</td>\n",
              "      <td>34490</td>\n",
              "      <td>205.96</td>\n",
              "      <td>169.88</td>\n",
              "      <td>39340</td>\n",
              "      <td>36.08</td>\n",
              "      <td>0.2124</td>\n",
              "      <td>-4850</td>\n",
              "      <td>-0.1233</td>\n",
              "      <td>...</td>\n",
              "      <td>False</td>\n",
              "      <td>False</td>\n",
              "      <td>False</td>\n",
              "      <td>False</td>\n",
              "      <td>False</td>\n",
              "      <td>False</td>\n",
              "      <td>False</td>\n",
              "      <td>False</td>\n",
              "      <td>False</td>\n",
              "      <td>False</td>\n",
              "    </tr>\n",
              "    <tr>\n",
              "      <th>1</th>\n",
              "      <td>2024</td>\n",
              "      <td>4</td>\n",
              "      <td>29550</td>\n",
              "      <td>197.70</td>\n",
              "      <td>156.70</td>\n",
              "      <td>34430</td>\n",
              "      <td>41.00</td>\n",
              "      <td>0.2617</td>\n",
              "      <td>-4880</td>\n",
              "      <td>-0.1417</td>\n",
              "      <td>...</td>\n",
              "      <td>False</td>\n",
              "      <td>False</td>\n",
              "      <td>False</td>\n",
              "      <td>False</td>\n",
              "      <td>False</td>\n",
              "      <td>False</td>\n",
              "      <td>False</td>\n",
              "      <td>False</td>\n",
              "      <td>False</td>\n",
              "      <td>False</td>\n",
              "    </tr>\n",
              "    <tr>\n",
              "      <th>2</th>\n",
              "      <td>2024</td>\n",
              "      <td>4</td>\n",
              "      <td>24910</td>\n",
              "      <td>256.22</td>\n",
              "      <td>192.41</td>\n",
              "      <td>36680</td>\n",
              "      <td>63.81</td>\n",
              "      <td>0.3316</td>\n",
              "      <td>-11770</td>\n",
              "      <td>-0.3209</td>\n",
              "      <td>...</td>\n",
              "      <td>False</td>\n",
              "      <td>False</td>\n",
              "      <td>False</td>\n",
              "      <td>False</td>\n",
              "      <td>False</td>\n",
              "      <td>False</td>\n",
              "      <td>False</td>\n",
              "      <td>False</td>\n",
              "      <td>False</td>\n",
              "      <td>False</td>\n",
              "    </tr>\n",
              "    <tr>\n",
              "      <th>3</th>\n",
              "      <td>2024</td>\n",
              "      <td>4</td>\n",
              "      <td>40090</td>\n",
              "      <td>315.81</td>\n",
              "      <td>257.61</td>\n",
              "      <td>43130</td>\n",
              "      <td>58.19</td>\n",
              "      <td>0.2259</td>\n",
              "      <td>-3040</td>\n",
              "      <td>-0.0705</td>\n",
              "      <td>...</td>\n",
              "      <td>False</td>\n",
              "      <td>False</td>\n",
              "      <td>False</td>\n",
              "      <td>False</td>\n",
              "      <td>False</td>\n",
              "      <td>False</td>\n",
              "      <td>False</td>\n",
              "      <td>False</td>\n",
              "      <td>False</td>\n",
              "      <td>False</td>\n",
              "    </tr>\n",
              "    <tr>\n",
              "      <th>4</th>\n",
              "      <td>2024</td>\n",
              "      <td>4</td>\n",
              "      <td>82790</td>\n",
              "      <td>211.52</td>\n",
              "      <td>164.20</td>\n",
              "      <td>79590</td>\n",
              "      <td>47.32</td>\n",
              "      <td>0.2882</td>\n",
              "      <td>3200</td>\n",
              "      <td>0.0402</td>\n",
              "      <td>...</td>\n",
              "      <td>False</td>\n",
              "      <td>False</td>\n",
              "      <td>False</td>\n",
              "      <td>False</td>\n",
              "      <td>False</td>\n",
              "      <td>False</td>\n",
              "      <td>False</td>\n",
              "      <td>False</td>\n",
              "      <td>False</td>\n",
              "      <td>False</td>\n",
              "    </tr>\n",
              "  </tbody>\n",
              "</table>\n",
              "<p>5 rows × 1029 columns</p>\n",
              "</div>"
            ],
            "text/plain": [
              "   Year  quarter  cur_passengers  cur_fare  ly_fare  ly_passengers  \\\n",
              "0  2024        4           34490    205.96   169.88          39340   \n",
              "1  2024        4           29550    197.70   156.70          34430   \n",
              "2  2024        4           24910    256.22   192.41          36680   \n",
              "3  2024        4           40090    315.81   257.61          43130   \n",
              "4  2024        4           82790    211.52   164.20          79590   \n",
              "\n",
              "   amount_change  percent_change  amount_change_pax  percent_change_pax  ...  \\\n",
              "0          36.08          0.2124              -4850             -0.1233  ...   \n",
              "1          41.00          0.2617              -4880             -0.1417  ...   \n",
              "2          63.81          0.3316             -11770             -0.3209  ...   \n",
              "3          58.19          0.2259              -3040             -0.0705  ...   \n",
              "4          47.32          0.2882               3200              0.0402  ...   \n",
              "\n",
              "   route_Seattle, WA - Tucson, AZ  \\\n",
              "0                           False   \n",
              "1                           False   \n",
              "2                           False   \n",
              "3                           False   \n",
              "4                           False   \n",
              "\n",
              "   route_Seattle, WA - Washington, DC (Metropolitan Area)  \\\n",
              "0                                              False        \n",
              "1                                              False        \n",
              "2                                              False        \n",
              "3                                              False        \n",
              "4                                              False        \n",
              "\n",
              "   route_St. Louis, MO - Tampa, FL (Metropolitan Area)  \\\n",
              "0                                              False     \n",
              "1                                              False     \n",
              "2                                              False     \n",
              "3                                              False     \n",
              "4                                              False     \n",
              "\n",
              "   route_St. Louis, MO - Washington, DC (Metropolitan Area)  \\\n",
              "0                                              False          \n",
              "1                                              False          \n",
              "2                                              False          \n",
              "3                                              False          \n",
              "4                                              False          \n",
              "\n",
              "   route_Syracuse, NY - Tampa, FL (Metropolitan Area)  \\\n",
              "0                                              False    \n",
              "1                                              False    \n",
              "2                                              False    \n",
              "3                                              False    \n",
              "4                                              False    \n",
              "\n",
              "   route_Syracuse, NY - Washington, DC (Metropolitan Area)  \\\n",
              "0                                              False         \n",
              "1                                              False         \n",
              "2                                              False         \n",
              "3                                              False         \n",
              "4                                              False         \n",
              "\n",
              "   route_Tampa, FL (Metropolitan Area) - Toledo, OH  \\\n",
              "0                                             False   \n",
              "1                                             False   \n",
              "2                                             False   \n",
              "3                                             False   \n",
              "4                                             False   \n",
              "\n",
              "   route_Tampa, FL (Metropolitan Area) - Washington, DC (Metropolitan Area)  \\\n",
              "0                                              False                          \n",
              "1                                              False                          \n",
              "2                                              False                          \n",
              "3                                              False                          \n",
              "4                                              False                          \n",
              "\n",
              "   route_Tulsa, OK - Washington, DC (Metropolitan Area)  \\\n",
              "0                                              False      \n",
              "1                                              False      \n",
              "2                                              False      \n",
              "3                                              False      \n",
              "4                                              False      \n",
              "\n",
              "   route_Washington, DC (Metropolitan Area) - West Palm Beach/Palm Beach, FL  \n",
              "0                                              False                          \n",
              "1                                              False                          \n",
              "2                                              False                          \n",
              "3                                              False                          \n",
              "4                                              False                          \n",
              "\n",
              "[5 rows x 1029 columns]"
            ]
          },
          "execution_count": 18,
          "metadata": {},
          "output_type": "execute_result"
        }
      ],
      "source": [
        "data_clean.head()"
      ]
    },
    {
      "cell_type": "code",
      "execution_count": 19,
      "metadata": {},
      "outputs": [],
      "source": [
        "# removed extream outliers 1\n",
        "df_trimmed = data_clean[(data_clean['cur_fare'] > data_clean['cur_fare'].quantile(0.01)) &\n",
        "                (data_clean['cur_fare'] < data_clean['cur_fare'].quantile(0.99))]\n"
      ]
    },
    {
      "cell_type": "code",
      "execution_count": 20,
      "metadata": {
        "id": "kkdGbGWYhtjq"
      },
      "outputs": [],
      "source": [
        "price_pred_X = df_trimmed[['Year', 'quarter', 'ly_fare', 'ly_passengers', 'cur_passengers',\n",
        "            'amount_change_pax', 'percent_change_pax']]\n",
        "price_pred_y = np.log(df_trimmed['cur_fare']) # to fix skewness"
      ]
    },
    {
      "cell_type": "code",
      "execution_count": 21,
      "metadata": {
        "id": "ezJ3l8EmjH8P"
      },
      "outputs": [],
      "source": [
        "price_pred_X_train, price_pred_X_test, price_pred_y_train, price_pred_y_test = train_test_split(price_pred_X, price_pred_y, test_size=0.2, random_state=42)"
      ]
    },
    {
      "cell_type": "code",
      "execution_count": 22,
      "metadata": {
        "id": "ALafovDkp0IP"
      },
      "outputs": [],
      "source": [
        "# Train the model\n",
        "lm = LinearRegression()\n",
        "lm.fit(price_pred_X_train, price_pred_y_train)\n",
        "predictions = lm.predict(price_pred_X_test)"
      ]
    },
    {
      "cell_type": "code",
      "execution_count": 23,
      "metadata": {
        "colab": {
          "base_uri": "https://localhost:8080/"
        },
        "id": "6srFohLPsX5J",
        "outputId": "8b324c14-2b5e-4964-83df-4d1b25587885"
      },
      "outputs": [
        {
          "name": "stdout",
          "output_type": "stream",
          "text": [
            "                           Coeff\n",
            "Year               -3.210318e-03\n",
            "quarter            -1.669401e-03\n",
            "ly_fare             5.504235e-03\n",
            "ly_passengers      -2.817011e-07\n",
            "cur_passengers      2.251751e-07\n",
            "amount_change_pax   5.068762e-07\n",
            "percent_change_pax  6.501939e-04\n"
          ]
        }
      ],
      "source": [
        "cdf = pd.DataFrame(lm.coef_, price_pred_X.columns, columns=['Coeff'])\n",
        "print(cdf)"
      ]
    },
    {
      "cell_type": "code",
      "execution_count": 24,
      "metadata": {
        "colab": {
          "base_uri": "https://localhost:8080/",
          "height": 472
        },
        "id": "sfrYnvLhtCDO",
        "outputId": "9f5f2fcd-9359-4f39-951e-866d95a80368"
      },
      "outputs": [
        {
          "data": {
            "image/png": "[encoded data removed]",
            "text/plain": [
              "<Figure size 640x480 with 1 Axes>"
            ]
          },
          "metadata": {},
          "output_type": "display_data"
        }
      ],
      "source": [
        "sns.scatterplot(x = predictions, y = price_pred_y_test)\n",
        "plt.xlabel('Predicted Fare')\n",
        "plt.ylabel('Actual Fare')\n",
        "plt.title('Predicted vs. current Fare')\n",
        "plt.show()"
      ]
    },
    {
      "cell_type": "code",
      "execution_count": 25,
      "metadata": {
        "id": "onTh33G9tbOn"
      },
      "outputs": [],
      "source": [
        "from sklearn.metrics import mean_squared_error, mean_absolute_error, r2_score\n",
        "import math"
      ]
    },
    {
      "cell_type": "code",
      "execution_count": 26,
      "metadata": {
        "colab": {
          "base_uri": "https://localhost:8080/"
        },
        "id": "VTqFv6P7uYdT",
        "outputId": "581ac590-9204-4e29-f22b-fdcbc9bc67ab"
      },
      "outputs": [
        {
          "name": "stdout",
          "output_type": "stream",
          "text": [
            "MAE: 0.09903470023151191\n",
            "MSE: 0.016778544821163702\n",
            "RMSE: 0.12953202237733996\n",
            "R2: 0.752275944520258\n"
          ]
        }
      ],
      "source": [
        "print('MAE:', mean_absolute_error(price_pred_y_test, predictions))\n",
        "print('MSE:', mean_squared_error(price_pred_y_test, predictions))\n",
        "print('RMSE:', math.sqrt(mean_squared_error(price_pred_y_test, predictions)))\n",
        "print('R2:', r2_score(price_pred_y_test, predictions))\n"
      ]
    },
    {
      "cell_type": "code",
      "execution_count": 27,
      "metadata": {
        "colab": {
          "base_uri": "https://localhost:8080/",
          "height": 523
        },
        "id": "_g_pe06SukTv",
        "outputId": "8424f5f7-a6cf-4de4-fa20-be52dd807bbc"
      },
      "outputs": [
        {
          "data": {
            "text/plain": [
              "<seaborn.axisgrid.FacetGrid at 0x23701d2c090>"
            ]
          },
          "execution_count": 27,
          "metadata": {},
          "output_type": "execute_result"
        },
        {
          "data": {
            "image/png": "[encoded data removed]",
            "text/plain": [
              "<Figure size 500x500 with 1 Axes>"
            ]
          },
          "metadata": {},
          "output_type": "display_data"
        }
      ],
      "source": [
        "# residuals\n",
        "price_residuals = price_pred_y_test - predictions\n",
        "sns.displot(price_residuals, bins=50, kde=False)"
      ]
    },
    {
      "cell_type": "code",
      "execution_count": 28,
      "metadata": {
        "colab": {
          "base_uri": "https://localhost:8080/",
          "height": 472
        },
        "id": "OfJAYDpsvJ8n",
        "outputId": "9296c31a-958f-4efe-f72c-63451ea8126b"
      },
      "outputs": [
        {
          "data": {
            "image/png": "[encoded data removed]",
            "text/plain": [
              "<Figure size 640x480 with 1 Axes>"
            ]
          },
          "metadata": {},
          "output_type": "display_data"
        }
      ],
      "source": [
        "import scipy.stats as stats\n",
        "stats.probplot(price_residuals, dist=\"norm\", plot=plt)\n",
        "plt.show()"
      ]
    }
  ],
  "metadata": {
    "colab": {
      "provenance": []
    },
    "kernelspec": {
      "display_name": "venv",
      "language": "python",
      "name": "python3"
    },
    "language_info": {
      "codemirror_mode": {
        "name": "ipython",
        "version": 3
      },
      "file_extension": ".py",
      "mimetype": "text/x-python",
      "name": "python",
      "nbconvert_exporter": "python",
      "pygments_lexer": "ipython3",
      "version": "3.11.9"
    }
  },
  "nbformat": 4,
  "nbformat_minor": 0
}
