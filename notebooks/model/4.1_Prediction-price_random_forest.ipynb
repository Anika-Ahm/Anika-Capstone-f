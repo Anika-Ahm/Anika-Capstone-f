{
 "cells": [
  {
   "cell_type": "code",
   "execution_count": 1,
   "id": "ac55fe33",
   "metadata": {},
   "outputs": [],
   "source": [
    "# Import libraries\n",
    "import numpy as np\n",
    "import pandas as pd\n",
    "import matplotlib.pyplot as plt\n",
    "import seaborn as sns\n",
    "import scipy.stats as stats\n",
    "from sklearn.tree import DecisionTreeRegressor\n",
    "from sklearn.ensemble import RandomForestRegressor\n",
    "from sklearn.model_selection import train_test_split\n",
    "from sklearn.metrics import mean_squared_error, r2_score\n",
    "\n"
   ]
  },
  {
   "cell_type": "markdown",
   "id": "d0a37363",
   "metadata": {},
   "source": [
    "### Train Model: forest and tree model to compare the prices  "
   ]
  },
  {
   "cell_type": "code",
   "execution_count": 2,
   "id": "71fdcb4c",
   "metadata": {},
   "outputs": [
    {
     "data": {
      "text/html": [
       "<div>\n",
       "<style scoped>\n",
       "    .dataframe tbody tr th:only-of-type {\n",
       "        vertical-align: middle;\n",
       "    }\n",
       "\n",
       "    .dataframe tbody tr th {\n",
       "        vertical-align: top;\n",
       "    }\n",
       "\n",
       "    .dataframe thead th {\n",
       "        text-align: right;\n",
       "    }\n",
       "</style>\n",
       "<table border=\"1\" class=\"dataframe\">\n",
       "  <thead>\n",
       "    <tr style=\"text-align: right;\">\n",
       "      <th></th>\n",
       "      <th>Year</th>\n",
       "      <th>quarter</th>\n",
       "      <th>cur_passengers</th>\n",
       "      <th>cur_fare</th>\n",
       "      <th>ly_fare</th>\n",
       "      <th>ly_passengers</th>\n",
       "      <th>amount_change</th>\n",
       "      <th>percent_change</th>\n",
       "      <th>amount_change_pax</th>\n",
       "      <th>percent_change_pax</th>\n",
       "      <th>...</th>\n",
       "      <th>route_Seattle, WA - Tucson, AZ</th>\n",
       "      <th>route_Seattle, WA - Washington, DC (Metropolitan Area)</th>\n",
       "      <th>route_St. Louis, MO - Tampa, FL (Metropolitan Area)</th>\n",
       "      <th>route_St. Louis, MO - Washington, DC (Metropolitan Area)</th>\n",
       "      <th>route_Syracuse, NY - Tampa, FL (Metropolitan Area)</th>\n",
       "      <th>route_Syracuse, NY - Washington, DC (Metropolitan Area)</th>\n",
       "      <th>route_Tampa, FL (Metropolitan Area) - Toledo, OH</th>\n",
       "      <th>route_Tampa, FL (Metropolitan Area) - Washington, DC (Metropolitan Area)</th>\n",
       "      <th>route_Tulsa, OK - Washington, DC (Metropolitan Area)</th>\n",
       "      <th>route_Washington, DC (Metropolitan Area) - West Palm Beach/Palm Beach, FL</th>\n",
       "    </tr>\n",
       "  </thead>\n",
       "  <tbody>\n",
       "    <tr>\n",
       "      <th>0</th>\n",
       "      <td>2024</td>\n",
       "      <td>4</td>\n",
       "      <td>34490</td>\n",
       "      <td>205.96</td>\n",
       "      <td>169.88</td>\n",
       "      <td>39340</td>\n",
       "      <td>36.08</td>\n",
       "      <td>0.2124</td>\n",
       "      <td>-4850</td>\n",
       "      <td>-0.1233</td>\n",
       "      <td>...</td>\n",
       "      <td>False</td>\n",
       "      <td>False</td>\n",
       "      <td>False</td>\n",
       "      <td>False</td>\n",
       "      <td>False</td>\n",
       "      <td>False</td>\n",
       "      <td>False</td>\n",
       "      <td>False</td>\n",
       "      <td>False</td>\n",
       "      <td>False</td>\n",
       "    </tr>\n",
       "    <tr>\n",
       "      <th>1</th>\n",
       "      <td>2024</td>\n",
       "      <td>4</td>\n",
       "      <td>29550</td>\n",
       "      <td>197.70</td>\n",
       "      <td>156.70</td>\n",
       "      <td>34430</td>\n",
       "      <td>41.00</td>\n",
       "      <td>0.2617</td>\n",
       "      <td>-4880</td>\n",
       "      <td>-0.1417</td>\n",
       "      <td>...</td>\n",
       "      <td>False</td>\n",
       "      <td>False</td>\n",
       "      <td>False</td>\n",
       "      <td>False</td>\n",
       "      <td>False</td>\n",
       "      <td>False</td>\n",
       "      <td>False</td>\n",
       "      <td>False</td>\n",
       "      <td>False</td>\n",
       "      <td>False</td>\n",
       "    </tr>\n",
       "    <tr>\n",
       "      <th>2</th>\n",
       "      <td>2024</td>\n",
       "      <td>4</td>\n",
       "      <td>24910</td>\n",
       "      <td>256.22</td>\n",
       "      <td>192.41</td>\n",
       "      <td>36680</td>\n",
       "      <td>63.81</td>\n",
       "      <td>0.3316</td>\n",
       "      <td>-11770</td>\n",
       "      <td>-0.3209</td>\n",
       "      <td>...</td>\n",
       "      <td>False</td>\n",
       "      <td>False</td>\n",
       "      <td>False</td>\n",
       "      <td>False</td>\n",
       "      <td>False</td>\n",
       "      <td>False</td>\n",
       "      <td>False</td>\n",
       "      <td>False</td>\n",
       "      <td>False</td>\n",
       "      <td>False</td>\n",
       "    </tr>\n",
       "    <tr>\n",
       "      <th>3</th>\n",
       "      <td>2024</td>\n",
       "      <td>4</td>\n",
       "      <td>40090</td>\n",
       "      <td>315.81</td>\n",
       "      <td>257.61</td>\n",
       "      <td>43130</td>\n",
       "      <td>58.19</td>\n",
       "      <td>0.2259</td>\n",
       "      <td>-3040</td>\n",
       "      <td>-0.0705</td>\n",
       "      <td>...</td>\n",
       "      <td>False</td>\n",
       "      <td>False</td>\n",
       "      <td>False</td>\n",
       "      <td>False</td>\n",
       "      <td>False</td>\n",
       "      <td>False</td>\n",
       "      <td>False</td>\n",
       "      <td>False</td>\n",
       "      <td>False</td>\n",
       "      <td>False</td>\n",
       "    </tr>\n",
       "    <tr>\n",
       "      <th>4</th>\n",
       "      <td>2024</td>\n",
       "      <td>4</td>\n",
       "      <td>82790</td>\n",
       "      <td>211.52</td>\n",
       "      <td>164.20</td>\n",
       "      <td>79590</td>\n",
       "      <td>47.32</td>\n",
       "      <td>0.2882</td>\n",
       "      <td>3200</td>\n",
       "      <td>0.0402</td>\n",
       "      <td>...</td>\n",
       "      <td>False</td>\n",
       "      <td>False</td>\n",
       "      <td>False</td>\n",
       "      <td>False</td>\n",
       "      <td>False</td>\n",
       "      <td>False</td>\n",
       "      <td>False</td>\n",
       "      <td>False</td>\n",
       "      <td>False</td>\n",
       "      <td>False</td>\n",
       "    </tr>\n",
       "  </tbody>\n",
       "</table>\n",
       "<p>5 rows × 1029 columns</p>\n",
       "</div>"
      ],
      "text/plain": [
       "   Year  quarter  cur_passengers  cur_fare  ly_fare  ly_passengers  \\\n",
       "0  2024        4           34490    205.96   169.88          39340   \n",
       "1  2024        4           29550    197.70   156.70          34430   \n",
       "2  2024        4           24910    256.22   192.41          36680   \n",
       "3  2024        4           40090    315.81   257.61          43130   \n",
       "4  2024        4           82790    211.52   164.20          79590   \n",
       "\n",
       "   amount_change  percent_change  amount_change_pax  percent_change_pax  ...  \\\n",
       "0          36.08          0.2124              -4850             -0.1233  ...   \n",
       "1          41.00          0.2617              -4880             -0.1417  ...   \n",
       "2          63.81          0.3316             -11770             -0.3209  ...   \n",
       "3          58.19          0.2259              -3040             -0.0705  ...   \n",
       "4          47.32          0.2882               3200              0.0402  ...   \n",
       "\n",
       "   route_Seattle, WA - Tucson, AZ  \\\n",
       "0                           False   \n",
       "1                           False   \n",
       "2                           False   \n",
       "3                           False   \n",
       "4                           False   \n",
       "\n",
       "   route_Seattle, WA - Washington, DC (Metropolitan Area)  \\\n",
       "0                                              False        \n",
       "1                                              False        \n",
       "2                                              False        \n",
       "3                                              False        \n",
       "4                                              False        \n",
       "\n",
       "   route_St. Louis, MO - Tampa, FL (Metropolitan Area)  \\\n",
       "0                                              False     \n",
       "1                                              False     \n",
       "2                                              False     \n",
       "3                                              False     \n",
       "4                                              False     \n",
       "\n",
       "   route_St. Louis, MO - Washington, DC (Metropolitan Area)  \\\n",
       "0                                              False          \n",
       "1                                              False          \n",
       "2                                              False          \n",
       "3                                              False          \n",
       "4                                              False          \n",
       "\n",
       "   route_Syracuse, NY - Tampa, FL (Metropolitan Area)  \\\n",
       "0                                              False    \n",
       "1                                              False    \n",
       "2                                              False    \n",
       "3                                              False    \n",
       "4                                              False    \n",
       "\n",
       "   route_Syracuse, NY - Washington, DC (Metropolitan Area)  \\\n",
       "0                                              False         \n",
       "1                                              False         \n",
       "2                                              False         \n",
       "3                                              False         \n",
       "4                                              False         \n",
       "\n",
       "   route_Tampa, FL (Metropolitan Area) - Toledo, OH  \\\n",
       "0                                             False   \n",
       "1                                             False   \n",
       "2                                             False   \n",
       "3                                             False   \n",
       "4                                             False   \n",
       "\n",
       "   route_Tampa, FL (Metropolitan Area) - Washington, DC (Metropolitan Area)  \\\n",
       "0                                              False                          \n",
       "1                                              False                          \n",
       "2                                              False                          \n",
       "3                                              False                          \n",
       "4                                              False                          \n",
       "\n",
       "   route_Tulsa, OK - Washington, DC (Metropolitan Area)  \\\n",
       "0                                              False      \n",
       "1                                              False      \n",
       "2                                              False      \n",
       "3                                              False      \n",
       "4                                              False      \n",
       "\n",
       "   route_Washington, DC (Metropolitan Area) - West Palm Beach/Palm Beach, FL  \n",
       "0                                              False                          \n",
       "1                                              False                          \n",
       "2                                              False                          \n",
       "3                                              False                          \n",
       "4                                              False                          \n",
       "\n",
       "[5 rows x 1029 columns]"
      ]
     },
     "execution_count": 2,
     "metadata": {},
     "output_type": "execute_result"
    }
   ],
   "source": [
    "data_clean = pd.read_csv(r'D:\\spring 25\\appiled stat\\anika Sprint 1\\data\\Processed\\data_clean.csv')\n",
    "data_clean.head()"
   ]
  },
  {
   "cell_type": "markdown",
   "id": "031deac3",
   "metadata": {},
   "source": [
    "Data Preparation"
   ]
  },
  {
   "cell_type": "code",
   "execution_count": 3,
   "id": "1da240a3",
   "metadata": {},
   "outputs": [],
   "source": [
    "# Define target\n",
    "y = data_clean['cur_fare']\n",
    "\n",
    "# Define features\n",
    "route_cols = [col for col in data_clean.columns if col.startswith('route_')]\n",
    "feature_cols = ['Year', 'quarter', 'ly_fare', 'ly_passengers', 'cur_passengers', \n",
    "                'amount_change_pax', 'percent_change_pax'] + route_cols\n",
    "\n",
    "X = data_clean[feature_cols]\n",
    "\n",
    "# Drop rows with NaNs in X or y\n",
    "df_clean = data_clean[feature_cols + ['cur_fare']].dropna()\n",
    "X = df_clean.drop(columns='cur_fare')\n",
    "y = df_clean['cur_fare']\n"
   ]
  },
  {
   "cell_type": "code",
   "execution_count": 4,
   "id": "a814aa13",
   "metadata": {},
   "outputs": [],
   "source": [
    "X_train, X_test, y_train, y_test = train_test_split(X, y, test_size=0.2, random_state=42)\n"
   ]
  },
  {
   "cell_type": "markdown",
   "id": "cdde9f9f",
   "metadata": {},
   "source": [
    "Fit model"
   ]
  },
  {
   "cell_type": "code",
   "execution_count": 5,
   "id": "06d16a3f",
   "metadata": {},
   "outputs": [],
   "source": [
    "tree_model = DecisionTreeRegressor(max_depth=5, random_state=42)\n",
    "tree_model.fit(X_train, y_train)\n",
    "y_pred_tree = tree_model.predict(X_test)\n"
   ]
  },
  {
   "cell_type": "code",
   "execution_count": 6,
   "id": "01b2a4bf",
   "metadata": {},
   "outputs": [],
   "source": [
    "forest_model = RandomForestRegressor(n_estimators=100, max_depth=10, random_state=42)\n",
    "forest_model.fit(X_train, y_train)\n",
    "y_pred_forest = forest_model.predict(X_test)\n"
   ]
  },
  {
   "cell_type": "markdown",
   "id": "258e1e86",
   "metadata": {},
   "source": [
    "Evaluate the model"
   ]
  },
  {
   "cell_type": "code",
   "execution_count": 7,
   "id": "9e5bb7ce",
   "metadata": {},
   "outputs": [
    {
     "name": "stdout",
     "output_type": "stream",
     "text": [
      "\n",
      "Decision Tree Results:\n",
      "R² Score: 0.817785830771564\n",
      "MSE: 725.3059544428818\n",
      "RMSE: 26.931504867773018\n",
      "\n",
      "Random Forest Results:\n",
      "R² Score: 0.9369213679360838\n",
      "MSE: 251.0853443933504\n",
      "RMSE: 15.845672734010078\n"
     ]
    }
   ],
   "source": [
    "def evaluate_model(name, y_true, y_pred):\n",
    "    print(f\"\\n{name} Results:\")\n",
    "    print(\"R² Score:\", r2_score(y_true, y_pred))\n",
    "    print(\"MSE:\", mean_squared_error(y_true, y_pred))\n",
    "    print(\"RMSE:\", np.sqrt(mean_squared_error(y_true, y_pred)))\n",
    "\n",
    "evaluate_model(\"Decision Tree\", y_test, y_pred_tree)\n",
    "evaluate_model(\"Random Forest\", y_test, y_pred_forest)\n"
   ]
  },
  {
   "cell_type": "markdown",
   "id": "7677f1d0",
   "metadata": {},
   "source": [
    "Comment: much better results that our baseline linear regression model, the R2 was .2 and later .7 for baseline"
   ]
  },
  {
   "cell_type": "markdown",
   "id": "f57c85e3",
   "metadata": {},
   "source": [
    "### Test Model\n"
   ]
  },
  {
   "cell_type": "code",
   "execution_count": 8,
   "id": "62b30bab",
   "metadata": {},
   "outputs": [],
   "source": [
    "# Create template with all columns\n",
    "new_input = pd.DataFrame(columns=X.columns)\n",
    "new_input.loc[0] = 0  # Set everything to zero first\n",
    "\n",
    "# Set values for features \n",
    "#if i wann to travel from tampa to washington between to month of 3rd quarter (oct-dec)\n",
    "new_input.at[0, 'Year'] = 2025\n",
    "new_input.at[0, 'quarter'] = 2\n",
    "new_input.at[0, 'ly_fare'] = 210\n",
    "new_input.at[0, 'ly_passengers'] = 15000\n",
    "new_input.at[0, 'cur_passengers'] = 14500\n",
    "\n",
    "# must match the exact name \n",
    "#new_input.at[0, 'route_Tampa, FL (Metropolitan Area) - Washington, DC (Metropolitan Area)'] = 1\n",
    "\n"
   ]
  },
  {
   "cell_type": "code",
   "execution_count": 9,
   "id": "b7362f1d",
   "metadata": {},
   "outputs": [
    {
     "name": "stdout",
     "output_type": "stream",
     "text": [
      "If the flight from Tampa to DC happens in Q2 of 2025, with 14,500 current passengers, last year had a fare of $210 and 15,000 passengers\n",
      "- Predicted Fare for this scenario: $ 249.83\n"
     ]
    }
   ],
   "source": [
    "# Assuming your model is already trained\n",
    "predicted_fare = forest_model.predict(new_input)\n",
    "\n",
    "# Show the result\n",
    "print(\"If the flight from Tampa to DC happens in Q2 of 2025, with 14,500 current passengers, last year had a fare of $210 and 15,000 passengers\")\n",
    "print(\"- Predicted Fare for this scenario: $\", round(predicted_fare[0], 2))\n"
   ]
  },
  {
   "cell_type": "code",
   "execution_count": 10,
   "id": "2d9ca512",
   "metadata": {},
   "outputs": [
    {
     "name": "stdout",
     "output_type": "stream",
     "text": [
      "Predicted Fare using Decision Tree: $ 249.07\n"
     ]
    }
   ],
   "source": [
    "predicted_fare = tree_model.predict(new_input)\n",
    "print(\"Predicted Fare using Decision Tree: $\", round(predicted_fare[0], 2))\n"
   ]
  },
  {
   "cell_type": "markdown",
   "id": "fb8f6ac2",
   "metadata": {},
   "source": [
    "the Two model produce similar results\n"
   ]
  }
 ],
 "metadata": {
  "kernelspec": {
   "display_name": "venv",
   "language": "python",
   "name": "python3"
  },
  "language_info": {
   "codemirror_mode": {
    "name": "ipython",
    "version": 3
   },
   "file_extension": ".py",
   "mimetype": "text/x-python",
   "name": "python",
   "nbconvert_exporter": "python",
   "pygments_lexer": "ipython3",
   "version": "3.11.9"
  }
 },
 "nbformat": 4,
 "nbformat_minor": 5
}
